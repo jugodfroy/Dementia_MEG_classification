{
 "cells": [
  {
   "cell_type": "markdown",
   "metadata": {},
   "source": [
    "# Consolide data with the feature extraction data"
   ]
  },
  {
   "cell_type": "code",
   "execution_count": 1,
   "metadata": {},
   "outputs": [
    {
     "ename": "ModuleNotFoundError",
     "evalue": "No module named 'seaborn'",
     "output_type": "error",
     "traceback": [
      "\u001b[1;31m---------------------------------------------------------------------------\u001b[0m",
      "\u001b[1;31mModuleNotFoundError\u001b[0m                       Traceback (most recent call last)",
      "Cell \u001b[1;32mIn[1], line 4\u001b[0m\n\u001b[0;32m      2\u001b[0m \u001b[38;5;28;01mimport\u001b[39;00m \u001b[38;5;21;01mnumpy\u001b[39;00m \u001b[38;5;28;01mas\u001b[39;00m \u001b[38;5;21;01mnp\u001b[39;00m\n\u001b[0;32m      3\u001b[0m \u001b[38;5;28;01mimport\u001b[39;00m \u001b[38;5;21;01mmatplotlib\u001b[39;00m\u001b[38;5;21;01m.\u001b[39;00m\u001b[38;5;21;01mpyplot\u001b[39;00m \u001b[38;5;28;01mas\u001b[39;00m \u001b[38;5;21;01mplt\u001b[39;00m\n\u001b[1;32m----> 4\u001b[0m \u001b[38;5;28;01mimport\u001b[39;00m \u001b[38;5;21;01mseaborn\u001b[39;00m \u001b[38;5;28;01mas\u001b[39;00m \u001b[38;5;21;01msns\u001b[39;00m\n",
      "\u001b[1;31mModuleNotFoundError\u001b[0m: No module named 'seaborn'"
     ]
    }
   ],
   "source": [
    "import pandas as pd\n",
    "import numpy as np\n",
    "import matplotlib.pyplot as plt\n",
    "import seaborn as sns"
   ]
  },
  {
   "cell_type": "markdown",
   "metadata": {},
   "source": [
    "## Build the train dataset "
   ]
  },
  {
   "cell_type": "code",
   "execution_count": null,
   "metadata": {},
   "outputs": [],
   "source": [
    "df_train_dementia = pd.read_excel(\n",
    "    '../hokuto_profile.xlsx', sheet_name='dementia')\n",
    "df_train_dementia['label'] = 'dementia'\n",
    "\n",
    "df_train_mci = pd.read_excel('../hokuto_profile.xlsx', sheet_name='mci')\n",
    "df_train_mci['label'] = 'mci'\n",
    "\n",
    "df_train_control = pd.read_excel(\n",
    "    '../hokuto_profile.xlsx', sheet_name='control')\n",
    "df_train_control['label'] = 'control'\n",
    "\n",
    "# union of the three dataframes\n",
    "df_train = pd.concat([df_train_dementia, df_train_mci, df_train_control])\n",
    "\n",
    "\n",
    "df_train['label_id'] = df_train['label'].map(\n",
    "    {'dementia': 2, 'mci': 1, 'control': 0})\n",
    "df_train['site_id'] = df_train['Site'].map(\n",
    "    {'A': 0, 'B': 1})\n",
    "\n",
    "\n",
    "df_train.head()"
   ]
  },
  {
   "cell_type": "code",
   "execution_count": null,
   "metadata": {},
   "outputs": [],
   "source": [
    "df_features_test = pd.read_csv('train_extracted_features.csv')\n",
    "# remove file extension pour filename\n",
    "df_features_test['FileName'] = df_features_test['FileName'].str.replace(\n",
    "    '.mat', '')\n",
    "df_features_test.head()"
   ]
  },
  {
   "cell_type": "code",
   "execution_count": null,
   "metadata": {},
   "outputs": [],
   "source": [
    "# merge the two dataframes with FileName and ID\n",
    "df_train = pd.merge(df_train, df_features_test, left_on='ID',\n",
    "                    right_on='FileName').drop('FileName', axis=1)\n",
    "df_train['gender_id'] = df_train['Gender'].map({'M': 1, 'F': 0})\n",
    "# save csv\n",
    "df_train.to_csv('df_train.csv', index=False)\n",
    "df_train.head()"
   ]
  },
  {
   "cell_type": "markdown",
   "metadata": {},
   "source": [
    "# Build the test dataset"
   ]
  },
  {
   "cell_type": "code",
   "execution_count": null,
   "metadata": {},
   "outputs": [],
   "source": [
    "df_test = pd.read_csv('test_extracted_features.csv')\n",
    "df_test['FileName'] = df_test['FileName'].str.replace('.mat', '')\n",
    "df_test.head()"
   ]
  },
  {
   "cell_type": "code",
   "execution_count": null,
   "metadata": {},
   "outputs": [],
   "source": [
    "\n",
    "df_profile = pd.read_excel('../hokuto_profile.xlsx', sheet_name='test_data')\n",
    "df_profile['gender_id'] = df_profile['Gender'].map({'M': 1, 'F': 0})\n",
    "df_profile['site_id'] = df_train['Site'].map(\n",
    "    {'A': 0, 'B': 1})\n",
    "df_profile['label'] = ''\n",
    "df_profile['label_id'] = ''\n",
    "df_profile.head()"
   ]
  },
  {
   "cell_type": "code",
   "execution_count": null,
   "metadata": {},
   "outputs": [],
   "source": [
    "# merge the two dataframes with FileName and ID\n",
    "df_test = pd.merge(df_profile, df_test, left_on='ID',\n",
    "                      right_on='FileName').drop('FileName', axis=1)\n",
    "df_test.to_csv('df_test.csv', index=False)\n",
    "\n",
    "df_test.head()"
   ]
  }
 ],
 "metadata": {
  "kernelspec": {
   "display_name": "Python 3",
   "language": "python",
   "name": "python3"
  },
  "language_info": {
   "codemirror_mode": {
    "name": "ipython",
    "version": 3
   },
   "file_extension": ".py",
   "mimetype": "text/x-python",
   "name": "python",
   "nbconvert_exporter": "python",
   "pygments_lexer": "ipython3",
   "version": "3.10.4"
  }
 },
 "nbformat": 4,
 "nbformat_minor": 2
}
